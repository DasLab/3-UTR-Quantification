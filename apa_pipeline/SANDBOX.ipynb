{
 "cells": [
  {
   "cell_type": "code",
   "execution_count": 91,
   "id": "a9b9cc40-7c2f-488b-a53d-069524d82d7c",
   "metadata": {},
   "outputs": [],
   "source": [
    "import pandas as pd\n",
    "import numpy as np\n",
    "import matplotlib.pyplot as plt\n",
    "from scipy.signal import find_peaks\n",
    "\n",
    "\n",
    "from extract_bed import extract_bed"
   ]
  },
  {
   "cell_type": "code",
   "execution_count": 92,
   "id": "31eadc5d-4468-41e6-8a8c-928b67afc0c0",
   "metadata": {},
   "outputs": [
    {
     "name": "stderr",
     "output_type": "stream",
     "text": [
      "/Users/brendagaribay/opt/anaconda3/lib/python3.8/site-packages/IPython/core/interactiveshell.py:3357: DtypeWarning: Columns (0,6,13) have mixed types.Specify dtype option on import or set low_memory=False.\n",
      "  if (await self.run_code(code, result,  async_=asy)):\n",
      "/Users/brendagaribay/opt/anaconda3/lib/python3.8/site-packages/IPython/core/interactiveshell.py:3357: DtypeWarning: Columns (0,6,13) have mixed types.Specify dtype option on import or set low_memory=False.\n",
      "  if (await self.run_code(code, result,  async_=asy)):\n"
     ]
    }
   ],
   "source": [
    "bed_path_projections = '../closest/stopcodonsprojections.bed'\n",
    "closest_df_projections = extract_bed(bed_path_projections)\n",
    "\n",
    "bed_path_soma = '../closest/stopcodonssoma.bed'\n",
    "closest_df_soma = extract_bed(bed_path_soma)"
   ]
  },
  {
   "cell_type": "code",
   "execution_count": 93,
   "id": "ff0dc943-8aad-47a0-b8e5-a84d485294f0",
   "metadata": {},
   "outputs": [],
   "source": [
    "fdf_projections = closest_df_projections.groupby('gene_name').filter(lambda x: len(x) > 500)\n",
    "unique_gene_names = list(set(fdf['gene_name']))\n",
    "\n",
    "fdf_soma = closest_df_soma.groupby('gene_name').filter(lambda x: len(x) > 500)\n"
   ]
  },
  {
   "cell_type": "code",
   "execution_count": 94,
   "id": "4363727a-9951-470c-ae4e-6723b799e2e1",
   "metadata": {},
   "outputs": [],
   "source": [
    "def find_gene_specific_histo_peaks(gdf, gene_name, bins=1000, max_length=10000):\n",
    "    \n",
    "    df_hist_y, df_hist_x = np.histogram(abs(gdf['distance']), bins=bins, range=(0, max_length))\n",
    "    \n",
    "    peaks, properties = find_peaks(df_hist_y, distance=150, width=[1,100], prominence=1)\n",
    "    widths = properties['widths']\n",
    "    \n",
    "    filtered_peaks = []\n",
    "    filtered_widths = []\n",
    "    \n",
    "    for i, peak in enumerate(peaks):\n",
    "        if df_hist_y[peak] > 0.001*sum(df_hist_y) and df_hist_y[peak] >= 5:\n",
    "            filtered_peaks.append(peak)\n",
    "            filtered_widths.append(widths[i])\n",
    "        \n",
    "    \n",
    "            \n",
    "    df_hist_y = df_hist_y/sum(df_hist_y)\n",
    "    \n",
    "    rows = []\n",
    "    for i,peak in enumerate(filtered_peaks):\n",
    "        # TODO: sum under curve for isoform abundance\n",
    "        width = filtered_widths[i]\n",
    "        abundance = sum(df_hist_y[peak - int(width) : peak + int(width)])\n",
    "        rows.append({'gene_name': gene_name, 'isoform_length': peak*(max_length/bins), 'isoform_abundane': abundance, 'isoform_spread': filtered_widths[i]})\n",
    "        \n",
    "    \n",
    "    return pd.DataFrame(rows)\n"
   ]
  },
  {
   "cell_type": "code",
   "execution_count": 95,
   "id": "b1228a36-6d55-4a37-98e4-566dbbdc548e",
   "metadata": {},
   "outputs": [
    {
     "data": {
      "text/html": [
       "<div>\n",
       "<style scoped>\n",
       "    .dataframe tbody tr th:only-of-type {\n",
       "        vertical-align: middle;\n",
       "    }\n",
       "\n",
       "    .dataframe tbody tr th {\n",
       "        vertical-align: top;\n",
       "    }\n",
       "\n",
       "    .dataframe thead th {\n",
       "        text-align: right;\n",
       "    }\n",
       "</style>\n",
       "<table border=\"1\" class=\"dataframe\">\n",
       "  <thead>\n",
       "    <tr style=\"text-align: right;\">\n",
       "      <th></th>\n",
       "      <th>gene_name</th>\n",
       "      <th>isoform_length</th>\n",
       "      <th>isoform_abundane</th>\n",
       "      <th>isoform_spread</th>\n",
       "    </tr>\n",
       "  </thead>\n",
       "  <tbody>\n",
       "    <tr>\n",
       "      <th>0</th>\n",
       "      <td>Mobp</td>\n",
       "      <td>30.0</td>\n",
       "      <td>0.012229</td>\n",
       "      <td>1.622727</td>\n",
       "    </tr>\n",
       "    <tr>\n",
       "      <th>1</th>\n",
       "      <td>Mobp</td>\n",
       "      <td>3300.0</td>\n",
       "      <td>0.013412</td>\n",
       "      <td>2.750000</td>\n",
       "    </tr>\n",
       "    <tr>\n",
       "      <th>2</th>\n",
       "      <td>Mobp</td>\n",
       "      <td>7350.0</td>\n",
       "      <td>0.554241</td>\n",
       "      <td>7.397321</td>\n",
       "    </tr>\n",
       "  </tbody>\n",
       "</table>\n",
       "</div>"
      ],
      "text/plain": [
       "  gene_name  isoform_length  isoform_abundane  isoform_spread\n",
       "0      Mobp            30.0          0.012229        1.622727\n",
       "1      Mobp          3300.0          0.013412        2.750000\n",
       "2      Mobp          7350.0          0.554241        7.397321"
      ]
     },
     "execution_count": 95,
     "metadata": {},
     "output_type": "execute_result"
    }
   ],
   "source": [
    "gene_name = 'Mobp'\n",
    "tdf = fdf_projections[fdf_projections['gene_name'] == gene_name]\n",
    "find_gene_specific_histo_peaks(tdf, gene_name)"
   ]
  },
  {
   "cell_type": "code",
   "execution_count": 96,
   "id": "55404c31-3170-4376-8acc-9b07a2fdfcc4",
   "metadata": {},
   "outputs": [
    {
     "data": {
      "text/html": [
       "<div>\n",
       "<style scoped>\n",
       "    .dataframe tbody tr th:only-of-type {\n",
       "        vertical-align: middle;\n",
       "    }\n",
       "\n",
       "    .dataframe tbody tr th {\n",
       "        vertical-align: top;\n",
       "    }\n",
       "\n",
       "    .dataframe thead th {\n",
       "        text-align: right;\n",
       "    }\n",
       "</style>\n",
       "<table border=\"1\" class=\"dataframe\">\n",
       "  <thead>\n",
       "    <tr style=\"text-align: right;\">\n",
       "      <th></th>\n",
       "      <th>gene_name</th>\n",
       "      <th>isoform_length</th>\n",
       "      <th>isoform_abundane</th>\n",
       "      <th>isoform_spread</th>\n",
       "    </tr>\n",
       "  </thead>\n",
       "  <tbody>\n",
       "    <tr>\n",
       "      <th>0</th>\n",
       "      <td>Mobp</td>\n",
       "      <td>20.0</td>\n",
       "      <td>0.054484</td>\n",
       "      <td>1.231579</td>\n",
       "    </tr>\n",
       "    <tr>\n",
       "      <th>1</th>\n",
       "      <td>Mobp</td>\n",
       "      <td>3300.0</td>\n",
       "      <td>0.161559</td>\n",
       "      <td>4.089286</td>\n",
       "    </tr>\n",
       "    <tr>\n",
       "      <th>2</th>\n",
       "      <td>Mobp</td>\n",
       "      <td>7390.0</td>\n",
       "      <td>0.335225</td>\n",
       "      <td>9.361111</td>\n",
       "    </tr>\n",
       "  </tbody>\n",
       "</table>\n",
       "</div>"
      ],
      "text/plain": [
       "  gene_name  isoform_length  isoform_abundane  isoform_spread\n",
       "0      Mobp            20.0          0.054484        1.231579\n",
       "1      Mobp          3300.0          0.161559        4.089286\n",
       "2      Mobp          7390.0          0.335225        9.361111"
      ]
     },
     "execution_count": 96,
     "metadata": {},
     "output_type": "execute_result"
    }
   ],
   "source": [
    "tdf = fdf_soma[fdf_soma['gene_name'] == gene_name]\n",
    "find_gene_specific_histo_peaks(tdf, gene_name)"
   ]
  },
  {
   "cell_type": "code",
   "execution_count": 53,
   "id": "7e2dda5a-a34c-476a-bed1-24c770b268ba",
   "metadata": {},
   "outputs": [],
   "source": [
    "dfs = []\n",
    "for gene in unique_gene_names:\n",
    "    tmp_df = fdf[fdf['gene_name'] == gene]\n",
    "    dfs.append(find_gene_specific_histo_peaks(tmp_df, gene))\n",
    "\n",
    "peaks_df = pd.concat(dfs)"
   ]
  },
  {
   "cell_type": "code",
   "execution_count": null,
   "id": "2e28c8d9-002d-4f98-b7cb-f452e464e48f",
   "metadata": {},
   "outputs": [],
   "source": [
    "# which genes transported sum # genes per read which genes have more reads\n",
    "# new df, each row one gene for i in, column in dataframe total # of reads from geen"
   ]
  },
  {
   "cell_type": "code",
   "execution_count": null,
   "id": "a5bfc8b3-f9d9-4a18-964b-08c9a4d71de3",
   "metadata": {},
   "outputs": [],
   "source": [
    "new_df = []\n",
    "def sum_of_reads(df):\n",
    "    for gene in df:\n",
    "        new_df.append(sum(set(gene))) # how to make it so it looks at specific genes? \n",
    "        print(new_df)\n",
    "sum_of_reads()"
   ]
  },
  {
   "cell_type": "code",
   "execution_count": 56,
   "id": "76d2e87f-54e0-4842-bc8d-a2576f4b2e2b",
   "metadata": {},
   "outputs": [
    {
     "data": {
      "text/html": [
       "<div>\n",
       "<style scoped>\n",
       "    .dataframe tbody tr th:only-of-type {\n",
       "        vertical-align: middle;\n",
       "    }\n",
       "\n",
       "    .dataframe tbody tr th {\n",
       "        vertical-align: top;\n",
       "    }\n",
       "\n",
       "    .dataframe thead th {\n",
       "        text-align: right;\n",
       "    }\n",
       "</style>\n",
       "<table border=\"1\" class=\"dataframe\">\n",
       "  <thead>\n",
       "    <tr style=\"text-align: right;\">\n",
       "      <th></th>\n",
       "      <th>gene_name</th>\n",
       "      <th>isoform_length</th>\n",
       "      <th>isoform_abundance</th>\n",
       "    </tr>\n",
       "  </thead>\n",
       "  <tbody>\n",
       "    <tr>\n",
       "      <th>0</th>\n",
       "      <td>Plp1</td>\n",
       "      <td>320.0</td>\n",
       "      <td>0.023825</td>\n",
       "    </tr>\n",
       "    <tr>\n",
       "      <th>1</th>\n",
       "      <td>Plp1</td>\n",
       "      <td>2010.0</td>\n",
       "      <td>0.053445</td>\n",
       "    </tr>\n",
       "  </tbody>\n",
       "</table>\n",
       "</div>"
      ],
      "text/plain": [
       "  gene_name  isoform_length  isoform_abundance\n",
       "0      Plp1           320.0           0.023825\n",
       "1      Plp1          2010.0           0.053445"
      ]
     },
     "execution_count": 56,
     "metadata": {},
     "output_type": "execute_result"
    }
   ],
   "source": [
    "peaks_df[peaks_df['gene_name'] == 'Plp1']"
   ]
  },
  {
   "cell_type": "code",
   "execution_count": null,
   "id": "c9da7333-c00a-409c-bb89-60b7e17a0437",
   "metadata": {},
   "outputs": [],
   "source": []
  }
 ],
 "metadata": {
  "kernelspec": {
   "display_name": "Python 3",
   "language": "python",
   "name": "python3"
  },
  "language_info": {
   "codemirror_mode": {
    "name": "ipython",
    "version": 3
   },
   "file_extension": ".py",
   "mimetype": "text/x-python",
   "name": "python",
   "nbconvert_exporter": "python",
   "pygments_lexer": "ipython3",
   "version": "3.8.8"
  }
 },
 "nbformat": 4,
 "nbformat_minor": 5
}
